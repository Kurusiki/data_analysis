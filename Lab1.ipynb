{
 "cells": [
  {
   "cell_type": "code",
   "execution_count": 76,
   "id": "ef513ce3",
   "metadata": {},
   "outputs": [],
   "source": [
    "import matplotlib.pyplot as plt\n",
    "%matplotlib inline\n",
    "import numpy as np\n",
    "from sklearn.linear_model import LinearRegression"
   ]
  },
  {
   "cell_type": "code",
   "execution_count": 77,
   "id": "a205c3dc",
   "metadata": {
    "scrolled": true
   },
   "outputs": [
    {
     "data": {
      "text/plain": [
       "[<matplotlib.lines.Line2D at 0x20373a3fe50>]"
      ]
     },
     "execution_count": 77,
     "metadata": {},
     "output_type": "execute_result"
    },
    {
     "data": {
      "image/png": "[encoded data removed]",
      "text/plain": [
       "<Figure size 432x288 with 1 Axes>"
      ]
     },
     "metadata": {
      "needs_background": "light"
     },
     "output_type": "display_data"
    }
   ],
   "source": [
    "num_points = 100\n",
    "a = 1\n",
    "b = 3\n",
    "noise = np.random.normal(0, 1, num_points)\n",
    "x = np.random.uniform(0, 5, num_points)\n",
    "y = a * x + b + noise\n",
    "plt.scatter(x, y, marker = '.', color = 'r')\n",
    "plt.plot()\n",
    "plt.plot(x, a * x + b)"
   ]
  },
  {
   "cell_type": "code",
   "execution_count": 78,
   "id": "9473ea99",
   "metadata": {},
   "outputs": [
    {
     "name": "stdout",
     "output_type": "stream",
     "text": [
      "0.6341974088920006\n"
     ]
    }
   ],
   "source": [
    "x = x.reshape((-1, 1))\n",
    "model = LinearRegression().fit(x,y)\n",
    "r_sq = model.score(x,y)\n",
    "print (r_sq)\n"
   ]
  },
  {
   "cell_type": "code",
   "execution_count": 79,
   "id": "9792ad7b",
   "metadata": {},
   "outputs": [
    {
     "name": "stdout",
     "output_type": "stream",
     "text": [
      "2.9158080181952646 1.1738437003150768\n"
     ]
    }
   ],
   "source": [
    "t = 1000\n",
    "a = 0\n",
    "b = 0\n",
    "s = 0.1\n",
    "\n",
    "n = float(len(x))\n",
    "\n",
    "for i in range(t): \n",
    "    pred = a * x + b\n",
    "    da = (-2/n) * sum(x * (y - pred))\n",
    "    db = (-2/n) * sum(y - pred)\n",
    "    c = a - s * da\n",
    "    g = b - s * db\n",
    "\n",
    "print (c[-1], g[-1])\n"
   ]
  },
  {
   "cell_type": "code",
   "execution_count": null,
   "id": "a0f64e8c",
   "metadata": {},
   "outputs": [],
   "source": []
  },
  {
   "cell_type": "code",
   "execution_count": null,
   "id": "5ac3684f",
   "metadata": {},
   "outputs": [],
   "source": []
  },
  {
   "cell_type": "code",
   "execution_count": null,
   "id": "bd94fc43",
   "metadata": {},
   "outputs": [],
   "source": []
  }
 ],
 "metadata": {
  "kernelspec": {
   "display_name": "Python 3 (ipykernel)",
   "language": "python",
   "name": "python3"
  },
  "language_info": {
   "codemirror_mode": {
    "name": "ipython",
    "version": 3
   },
   "file_extension": ".py",
   "mimetype": "text/x-python",
   "name": "python",
   "nbconvert_exporter": "python",
   "pygments_lexer": "ipython3",
   "version": "3.10.0"
  }
 },
 "nbformat": 4,
 "nbformat_minor": 5
}
